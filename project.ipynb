{
  "cells": [
    {
      "cell_type": "markdown",
      "metadata": {
        "id": "view-in-github",
        "colab_type": "text"
      },
      "source": [
        "<a href=\"https://colab.research.google.com/github/Thanmaigottumukkala/Principles-of-Data-Science/blob/main/project.ipynb\" target=\"_parent\"><img src=\"https://colab.research.google.com/assets/colab-badge.svg\" alt=\"Open In Colab\"/></a>"
      ]
    },
    {
      "cell_type": "markdown",
      "metadata": {
        "id": "3aQJE7YVt-fm"
      },
      "source": [
        "#Step 1: Set up the environment by installing packages, fixing conflicts, importing libraries, and downloading data needed for text preprocessing, topic modeling, and visualization.\n",
        "\n",
        "\n"
      ]
    },
    {
      "cell_type": "code",
      "execution_count": 1,
      "metadata": {
        "colab": {
          "base_uri": "https://localhost:8080/"
        },
        "id": "bYfm6kZ3OSly",
        "outputId": "69cb9848-9cbb-4f1d-dda9-c18e783f862e"
      },
      "outputs": [
        {
          "output_type": "stream",
          "name": "stdout",
          "text": [
            "Requirement already satisfied: pyLDAvis in /usr/local/lib/python3.11/dist-packages (3.4.1)\n",
            "Requirement already satisfied: numpy>=1.24.2 in /usr/local/lib/python3.11/dist-packages (from pyLDAvis) (1.24.4)\n",
            "Requirement already satisfied: scipy in /usr/local/lib/python3.11/dist-packages (from pyLDAvis) (1.13.1)\n",
            "Requirement already satisfied: pandas>=2.0.0 in /usr/local/lib/python3.11/dist-packages (from pyLDAvis) (2.2.2)\n",
            "Requirement already satisfied: joblib>=1.2.0 in /usr/local/lib/python3.11/dist-packages (from pyLDAvis) (1.4.2)\n",
            "Requirement already satisfied: jinja2 in /usr/local/lib/python3.11/dist-packages (from pyLDAvis) (3.1.6)\n",
            "Requirement already satisfied: numexpr in /usr/local/lib/python3.11/dist-packages (from pyLDAvis) (2.10.2)\n",
            "Requirement already satisfied: funcy in /usr/local/lib/python3.11/dist-packages (from pyLDAvis) (2.0)\n",
            "Requirement already satisfied: scikit-learn>=1.0.0 in /usr/local/lib/python3.11/dist-packages (from pyLDAvis) (1.6.1)\n",
            "Requirement already satisfied: gensim in /usr/local/lib/python3.11/dist-packages (from pyLDAvis) (4.3.3)\n",
            "Requirement already satisfied: setuptools in /usr/local/lib/python3.11/dist-packages (from pyLDAvis) (75.2.0)\n",
            "Requirement already satisfied: python-dateutil>=2.8.2 in /usr/local/lib/python3.11/dist-packages (from pandas>=2.0.0->pyLDAvis) (2.9.0.post0)\n",
            "Requirement already satisfied: pytz>=2020.1 in /usr/local/lib/python3.11/dist-packages (from pandas>=2.0.0->pyLDAvis) (2025.2)\n",
            "Requirement already satisfied: tzdata>=2022.7 in /usr/local/lib/python3.11/dist-packages (from pandas>=2.0.0->pyLDAvis) (2025.2)\n",
            "Requirement already satisfied: threadpoolctl>=3.1.0 in /usr/local/lib/python3.11/dist-packages (from scikit-learn>=1.0.0->pyLDAvis) (3.6.0)\n",
            "Requirement already satisfied: smart-open>=1.8.1 in /usr/local/lib/python3.11/dist-packages (from gensim->pyLDAvis) (7.1.0)\n",
            "Requirement already satisfied: MarkupSafe>=2.0 in /usr/local/lib/python3.11/dist-packages (from jinja2->pyLDAvis) (3.0.2)\n",
            "Requirement already satisfied: six>=1.5 in /usr/local/lib/python3.11/dist-packages (from python-dateutil>=2.8.2->pandas>=2.0.0->pyLDAvis) (1.17.0)\n",
            "Requirement already satisfied: wrapt in /usr/local/lib/python3.11/dist-packages (from smart-open>=1.8.1->gensim->pyLDAvis) (1.17.2)\n",
            "Requirement already satisfied: funcy in /usr/local/lib/python3.11/dist-packages (2.0)\n"
          ]
        },
        {
          "output_type": "stream",
          "name": "stderr",
          "text": [
            "[nltk_data] Downloading package punkt to /root/nltk_data...\n",
            "[nltk_data]   Package punkt is already up-to-date!\n",
            "[nltk_data] Downloading package wordnet to /root/nltk_data...\n",
            "[nltk_data]   Package wordnet is already up-to-date!\n",
            "[nltk_data] Downloading package stopwords to /root/nltk_data...\n",
            "[nltk_data]   Package stopwords is already up-to-date!\n",
            "[nltk_data] Downloading package averaged_perceptron_tagger to\n",
            "[nltk_data]     /root/nltk_data...\n",
            "[nltk_data]   Package averaged_perceptron_tagger is already up-to-\n",
            "[nltk_data]       date!\n",
            "[nltk_data] Downloading package omw-1.4 to /root/nltk_data...\n",
            "[nltk_data]   Package omw-1.4 is already up-to-date!\n"
          ]
        },
        {
          "output_type": "execute_result",
          "data": {
            "text/plain": [
              "True"
            ]
          },
          "metadata": {},
          "execution_count": 1
        }
      ],
      "source": [
        "\n",
        "import pandas as pd\n",
        "import numpy as np\n",
        "import nltk\n",
        "import re\n",
        "import string\n",
        "import emoji\n",
        "from textblob import TextBlob\n",
        "from nltk.corpus import stopwords\n",
        "from nltk.stem import WordNetLemmatizer\n",
        "from tqdm import tqdm\n",
        "import spacy\n",
        "from gensim.models import CoherenceModel\n",
        "from gensim.corpora import Dictionary\n",
        "from wordcloud import WordCloud\n",
        "import matplotlib.pyplot as plt\n",
        "from sklearn.decomposition import LatentDirichletAllocation\n",
        "from sklearn.feature_extraction.text import CountVectorizer\n",
        "\n",
        "!pip install pyLDAvis\n",
        "!pip install funcy\n",
        "\n",
        "import pyLDAvis\n",
        "import pyLDAvis.gensim_models\n",
        "\n",
        "# Download necessary NLTK data\n",
        "nltk.download('punkt')\n",
        "nltk.download('wordnet')\n",
        "nltk.download('stopwords')\n",
        "nltk.download('averaged_perceptron_tagger')\n",
        "nltk.download('omw-1.4')"
      ]
    },
    {
      "cell_type": "markdown",
      "metadata": {
        "id": "wrZd2Q17uQBI"
      },
      "source": [
        "#Step 2: Mount Google Drive to access dataset files directly in Colab."
      ]
    },
    {
      "cell_type": "code",
      "execution_count": 2,
      "metadata": {
        "colab": {
          "base_uri": "https://localhost:8080/"
        },
        "id": "ZoYbWyDZOiKW",
        "outputId": "b53cf447-e420-4df2-a290-f743ea136b3a"
      },
      "outputs": [
        {
          "output_type": "stream",
          "name": "stdout",
          "text": [
            "Drive already mounted at /content/drive; to attempt to forcibly remount, call drive.mount(\"/content/drive\", force_remount=True).\n"
          ]
        }
      ],
      "source": [
        "from google.colab import drive\n",
        "drive.mount('/content/drive')"
      ]
    },
    {
      "cell_type": "markdown",
      "metadata": {
        "id": "pfyGwIZ6uYV3"
      },
      "source": [
        "#Step 3: Load dataset from Parquet, preview it, and save a copy as CSV for easier access and sharing.\n"
      ]
    },
    {
      "cell_type": "code",
      "execution_count": 3,
      "metadata": {
        "colab": {
          "base_uri": "https://localhost:8080/"
        },
        "id": "gAekrPaCPE--",
        "outputId": "897c0adb-1ac8-4394-f109-6528150c3372"
      },
      "outputs": [
        {
          "output_type": "stream",
          "name": "stdout",
          "text": [
            "Sample Data from Parquet File:\n",
            "   year                                              title  \\\n",
            "0  1920  At last the Federal Reserve Board has issued r...   \n",
            "1  1920                            WILL TEST DOOR SERVICE.   \n",
            "2  1920                    Sanction for Chinese Contracts.   \n",
            "3  1920                            LEADS FRAZIER BY 4,496.   \n",
            "4  1920  CHICAGO, April 30.--With 300 suspicious charac...   \n",
            "\n",
            "                                             excerpt  \n",
            "0                                                     \n",
            "1  Service Board to Further Examine I.R.T. Safety...  \n",
            "2                                                     \n",
            "3  Langer's Margin Falls in North Dakota--Gronna ...  \n",
            "4  Federal Agents and Police Round-- up Suspiciou...  \n"
          ]
        }
      ],
      "source": [
        "# Read parquet\n",
        "parquet_file_path = '/content/drive/MyDrive/nyt_data.parquet'\n",
        "df = pd.read_parquet(parquet_file_path, engine='pyarrow')\n",
        "\n",
        "# Print a few rows to check content\n",
        "print(\"Sample Data from Parquet File:\")\n",
        "print(df.head())\n",
        "\n",
        "# Save as CSV\n",
        "csv_file_path = '/content/drive/MyDrive/nyt_data.csv'\n",
        "df.to_csv(csv_file_path, index=False)\n"
      ]
    },
    {
      "cell_type": "markdown",
      "source": [
        "#Step 4: Print detailed information about the dataset, including its shape (rows and columns), column data types, and memory usage to understand its structure and optimize processing.\n"
      ],
      "metadata": {
        "id": "DqfqDLR5tTAm"
      }
    },
    {
      "cell_type": "code",
      "source": [
        "# Print detailed information about the dataset\n",
        "print(\"Dataset Overview:\")\n",
        "\n",
        "# 1. Print the number of rows and columns\n",
        "print(f\"Number of rows: {df.shape[0]}\")\n",
        "print(f\"Number of columns: {df.shape[1]}\")\n",
        "\n",
        "# 2. Print the column names and their data types\n",
        "print(\"\\nColumns and Data Types:\")\n",
        "print(df.dtypes)\n",
        "\n",
        "# 3. Print memory usage in GB\n",
        "memory_usage = df.memory_usage(deep=True).sum() / (1024**3)  # Convert bytes to GB\n",
        "print(f\"\\nMemory usage: {memory_usage:.4f} GB\")\n",
        "\n",
        "# Count articles per year\n",
        "article_counts = df['year'].value_counts().sort_index()\n",
        "\n",
        "# Plot line chart\n",
        "plt.figure(figsize=(14, 6))\n",
        "plt.plot(article_counts.index, article_counts.values, marker='o', color='darkblue')\n",
        "plt.title(' Number of Articles Per Year (1920–2020)', fontsize=16)\n",
        "plt.xlabel('Year', fontsize=12)\n",
        "plt.ylabel('Article Count', fontsize=12)\n",
        "plt.grid(True)\n",
        "plt.tight_layout()\n",
        "plt.show()\n"
      ],
      "metadata": {
        "colab": {
          "base_uri": "https://localhost:8080/",
          "height": 798
        },
        "id": "i1JVgwsOiw4C",
        "outputId": "eaf0a3aa-d96e-4c41-e06a-27e6a22ee35a"
      },
      "execution_count": 4,
      "outputs": [
        {
          "output_type": "stream",
          "name": "stdout",
          "text": [
            "Dataset Overview:\n",
            "Number of rows: 17370913\n",
            "Number of columns: 3\n",
            "\n",
            "Columns and Data Types:\n",
            "year        int64\n",
            "title      object\n",
            "excerpt    object\n",
            "dtype: object\n",
            "\n",
            "Memory usage: 6.0328 GB\n"
          ]
        },
        {
          "output_type": "display_data",
          "data": {
            "text/plain": [
              "<Figure size 1400x600 with 1 Axes>"
            ],
            "image/png": "[encoded data removed]"
          },
          "metadata": {}
        }
      ]
    },
    {
      "cell_type": "markdown",
      "metadata": {
        "id": "MYDVzVWHu8tr"
      },
      "source": [
        "#Step 5: Read the CSV file in chunks to avoid memory issues with large files, then display the first chunk verify correct reading.\n"
      ]
    },
    {
      "cell_type": "code",
      "execution_count": 5,
      "metadata": {
        "colab": {
          "base_uri": "https://localhost:8080/"
        },
        "id": "msB8HkhVQipP",
        "outputId": "c257d0d3-8069-4d6c-d3e2-e6b6541aa435"
      },
      "outputs": [
        {
          "output_type": "stream",
          "name": "stdout",
          "text": [
            "Preview of first chunk:\n",
            "   year                                              title  \\\n",
            "0  1920  At last the Federal Reserve Board has issued r...   \n",
            "1  1920                            WILL TEST DOOR SERVICE.   \n",
            "2  1920                    Sanction for Chinese Contracts.   \n",
            "3  1920                            LEADS FRAZIER BY 4,496.   \n",
            "4  1920  CHICAGO, April 30.--With 300 suspicious charac...   \n",
            "\n",
            "                                             excerpt  \n",
            "0                                                NaN  \n",
            "1  Service Board to Further Examine I.R.T. Safety...  \n",
            "2                                                NaN  \n",
            "3  Langer's Margin Falls in North Dakota--Gronna ...  \n",
            "4  Federal Agents and Police Round-- up Suspiciou...  \n",
            "Index(['year', 'title', 'excerpt'], dtype='object')\n"
          ]
        }
      ],
      "source": [
        "# Read the CSV in chunks\n",
        "chunk_size = 5000  # Adjust based on available RAM\n",
        "csv_file_path = '/content/drive/MyDrive/nyt_data.csv'\n",
        "\n",
        "# Preview just the first chunk to check the structure\n",
        "preview_chunk = next(pd.read_csv(csv_file_path, chunksize=chunk_size))\n",
        "print(\"Preview of first chunk:\")\n",
        "print(preview_chunk.head())\n",
        "print(preview_chunk.columns)\n"
      ]
    },
    {
      "cell_type": "markdown",
      "metadata": {
        "id": "ow5dtoAcwE9E"
      },
      "source": [
        "# Step 6: Efficiently preprocess a large CSV of text data in chunks using stemming and stopword removal, then save the cleaned output.\n",
        "\n",
        "\n"
      ]
    },
    {
      "cell_type": "code",
      "source": [
        "\n",
        "from nltk.stem import PorterStemmer\n",
        "\n",
        "\n",
        "# Set up fast tools\n",
        "stop_words = set(stopwords.words(\"english\"))\n",
        "stemmer = PorterStemmer()\n",
        "\n",
        "def fast_preprocess(text):\n",
        "    text = str(text).lower()\n",
        "    text = re.sub(r'\\d+', '', text)\n",
        "    text = text.translate(str.maketrans('', '', string.punctuation))\n",
        "    tokens = text.split()\n",
        "    tokens = [stemmer.stem(word) for word in tokens if word not in stop_words and word.isalpha()]\n",
        "    return ' '.join(tokens)\n",
        "\n",
        "# File path and chunking\n",
        "csv_file_path = '/content/drive/MyDrive/nyt_data.csv'\n",
        "chunk_size = 250000  # Try a higher chunk size if RAM allows\n",
        "\n",
        "processed_chunks = []\n",
        "chunks = pd.read_csv(csv_file_path, chunksize=chunk_size)\n",
        "\n",
        "for chunk in tqdm(chunks, desc=\"Processing Chunks\"):\n",
        "    chunk = chunk.dropna(subset=[\"excerpt\"]).reset_index(drop=True)\n",
        "    chunk['processed_text'] = chunk['excerpt'].apply(fast_preprocess)\n",
        "    processed_chunks.append(chunk)\n",
        "\n",
        "# Combine and save\n",
        "processed_df = pd.concat(processed_chunks, ignore_index=True)\n",
        "processed_df.to_csv(\"/content/drive/MyDrive/processed_data.csv\", index=False)\n"
      ],
      "metadata": {
        "colab": {
          "base_uri": "https://localhost:8080/"
        },
        "id": "Gs529b97QvKl",
        "outputId": "a8bad663-dffb-41b5-cb45-63a2640d8939"
      },
      "execution_count": 6,
      "outputs": [
        {
          "output_type": "stream",
          "name": "stderr",
          "text": [
            "Processing Chunks: 70it [45:12, 38.75s/it]\n"
          ]
        }
      ]
    },
    {
      "cell_type": "markdown",
      "source": [
        "#Step 7: Converts cleaned text into numerical features using CountVectorizer for use in topic modeling or ML algorithms.\n",
        "\n",
        "max_df=0.9 removes very frequent words.\n",
        "\n",
        "min_df=10 keeps only words that appear in at least 10 documents.\n",
        "\n",
        "\n",
        "\n"
      ],
      "metadata": {
        "id": "6iLDNeYlkFQZ"
      }
    },
    {
      "cell_type": "code",
      "execution_count": 7,
      "metadata": {
        "id": "457w1SYRreAm",
        "colab": {
          "base_uri": "https://localhost:8080/"
        },
        "outputId": "06614031-cb55-440c-a720-ced615fc6a3f"
      },
      "outputs": [
        {
          "output_type": "stream",
          "name": "stdout",
          "text": [
            "Vectorization complete. Shape of matrix: (7965581, 105888)\n"
          ]
        }
      ],
      "source": [
        "# Vectorize the Text Data\n",
        "\n",
        "vectorizer = CountVectorizer(max_df=0.9, min_df=10, stop_words='english')\n",
        "X = vectorizer.fit_transform(processed_df['processed_text'])\n",
        "\n",
        "print(\"Vectorization complete. Shape of matrix:\", X.shape)\n"
      ]
    },
    {
      "cell_type": "markdown",
      "source": [
        "#Step 8: Train an LDA model to discover hidden topics\n",
        "\n",
        "You chose to extract 10 topics."
      ],
      "metadata": {
        "id": "pe3wnNXfD3vZ"
      }
    },
    {
      "cell_type": "code",
      "execution_count": null,
      "metadata": {
        "id": "Z9Doj3KUridc"
      },
      "outputs": [],
      "source": [
        "#Train LDA Model (Topic Modeling)\n",
        "n_topics = 10\n",
        "lda = LatentDirichletAllocation(n_components=n_topics, random_state=42)\n",
        "lda.fit(X)\n",
        "\n",
        "print(\"LDA Model Training Complete\")\n",
        "\n",
        "# Assign Dominant Topic to Each Document\n",
        "\n",
        "topic_distributions = lda.transform(X)\n",
        "processed_df['dominant_topic'] = np.argmax(topic_distributions, axis=1)\n"
      ]
    },
    {
      "cell_type": "markdown",
      "source": [
        "#Step 9:  Time-Based Topic Trend Analysis\n",
        "\n",
        "Assign the dominant topic to each document, group by year and topic to analyze trends, normalize the data, and plot the trends of each topic over time.\n",
        "\n"
      ],
      "metadata": {
        "id": "G1S0En4TTnTV"
      }
    },
    {
      "cell_type": "code",
      "source": [
        "\n",
        "# Group by year and topic\n",
        "topic_year_trends = processed_df.groupby(['year', 'dominant_topic']).size().unstack(fill_value=0)\n",
        "\n",
        "# Normalize the data\n",
        "topic_year_trends_normalized = topic_year_trends.div(topic_year_trends.sum(axis=1), axis=0)\n",
        "\n",
        "# Plot trends\n",
        "\n",
        "plt.figure(figsize=(12, 6))\n",
        "for topic in topic_year_trends_normalized.columns:\n",
        "    plt.plot(topic_year_trends_normalized.index, topic_year_trends_normalized[topic], label=f'Topic {topic}')\n",
        "plt.title('Topic Trends Over Time')\n",
        "plt.xlabel('Year')\n",
        "plt.ylabel('Topic Proportion')\n",
        "plt.legend()\n",
        "plt.grid(True)\n",
        "plt.show()"
      ],
      "metadata": {
        "id": "RZ91-3LtTmEx"
      },
      "execution_count": null,
      "outputs": []
    },
    {
      "cell_type": "markdown",
      "metadata": {
        "id": "5s2QfdMjwnGC"
      },
      "source": [
        "\n",
        "\n",
        "#Step 10: Save the cleaned DataFrame as a CSV file to Google Drive and confirm successful saving.\n"
      ]
    },
    {
      "cell_type": "code",
      "execution_count": null,
      "metadata": {
        "id": "4wzjPtawrSDS"
      },
      "outputs": [],
      "source": [
        "#Save Cleaned CSV\n",
        "processed_df.to_csv('/content/drive/MyDrive/nyt_data_cleaned.csv', index=False)\n",
        "print(\"Cleaned CSV saved successfully!\")\n"
      ]
    },
    {
      "cell_type": "markdown",
      "source": [
        "#Step 11: Model Evaluation: Prepare data in Gensim format and compute coherence score to evaluate the quality and interpretability of the LDA topics.\n"
      ],
      "metadata": {
        "id": "mDzO5OB2THtb"
      }
    },
    {
      "cell_type": "code",
      "source": [
        "# Prepare data for gensim\n",
        "texts = [doc.split() for doc in processed_df['processed_text']]\n",
        "dictionary = Dictionary(texts)\n",
        "corpus = [dictionary.doc2bow(text) for text in texts]\n",
        "\n",
        "from gensim.models import LdaModel\n",
        "\n",
        "lda_gensim = LdaModel(corpus=corpus, id2word=dictionary, num_topics=n_topics, passes=10, random_state=42)\n",
        "coherence_model = CoherenceModel(model=lda_gensim, texts=texts, dictionary=dictionary, coherence='c_v')\n",
        "coherence_score = coherence_model.get_coherence()\n",
        "print(f\"Coherence Score: {coherence_score:.4f}\")\n"
      ],
      "metadata": {
        "id": "BalcV9PNTCsD"
      },
      "execution_count": null,
      "outputs": []
    },
    {
      "cell_type": "markdown",
      "metadata": {
        "id": "QDFRLwAexTlZ"
      },
      "source": [
        "#Step 12: Displays top 10 words for each topic and helps understand what each topic is talking about.\n",
        "\n",
        "\n"
      ]
    },
    {
      "cell_type": "code",
      "execution_count": null,
      "metadata": {
        "id": "wb8Cn8-4rlZh"
      },
      "outputs": [],
      "source": [
        "# Display Top Words per Topic\n",
        "def display_topics(model, feature_names, no_top_words):\n",
        "    for topic_idx, topic in enumerate(model.components_):\n",
        "        print(f\"Topic {topic_idx + 1}:\")\n",
        "        print(\" | \".join([feature_names[i] for i in topic.argsort()[:-no_top_words - 1:-1]]))\n",
        "        print()\n",
        "\n",
        "no_top_words = 10\n",
        "display_topics(lda, vectorizer.get_feature_names_out(), no_top_words)\n"
      ]
    },
    {
      "cell_type": "markdown",
      "metadata": {
        "id": "dSgAoD34xiWY"
      },
      "source": [
        "#Step 13:  Generate and display a word cloud for each topic to visually highlight its most important words.\n"
      ]
    },
    {
      "cell_type": "code",
      "execution_count": null,
      "metadata": {
        "id": "KZq1FhADrnXK"
      },
      "outputs": [],
      "source": [
        "# Visualize Topics with WordClouds\n",
        "\n",
        "for idx, topic in enumerate(lda.components_):\n",
        "    plt.figure()\n",
        "    wordcloud = WordCloud(background_color='white').generate_from_frequencies(\n",
        "        {vectorizer.get_feature_names_out()[i]: topic[i] for i in topic.argsort()[:-50 - 1:-1]}\n",
        "    )\n",
        "    plt.imshow(wordcloud, interpolation='bilinear')\n",
        "    plt.axis('off')\n",
        "    plt.title(f'Topic {idx + 1}')\n",
        "    plt.show()\n"
      ]
    },
    {
      "cell_type": "markdown",
      "source": [
        "#Step 14: Generate and save an interactive HTML visualization of the LDA topics using pyLDAvis.\n"
      ],
      "metadata": {
        "id": "MxCJeH9OT7Mt"
      }
    },
    {
      "cell_type": "code",
      "source": [
        "# Interactive Visualization with pyLDAvis\n",
        "\n",
        "pyLDAvis.save_html(pyLDAvis.sklearn.prepare(lda, X, vectorizer), '/content/drive/MyDrive/lda_vis.html')\n"
      ],
      "metadata": {
        "id": "VwGO2dqtTyNp"
      },
      "execution_count": null,
      "outputs": []
    },
    {
      "cell_type": "markdown",
      "source": [
        "## NMF Model"
      ],
      "metadata": {
        "id": "fFGI09u4mP3T"
      }
    },
    {
      "cell_type": "markdown",
      "source": [
        "# Train the NMF Model\n"
      ],
      "metadata": {
        "id": "4o8w6oZBmTIP"
      }
    },
    {
      "cell_type": "code",
      "source": [
        "from sklearn.feature_extraction.text import CountVectorizer\n",
        "\n",
        "# Initialize the CountVectorizer (you can also use TfidfVectorizer here)\n",
        "vectorizer = CountVectorizer(max_df=0.9, min_df=10, stop_words='english')\n",
        "\n",
        "# Vectorize the processed text\n",
        "X = vectorizer.fit_transform(processed_df['processed_text'])\n",
        "\n",
        "print(f\"Shape of the document-term matrix: {X.shape}\")\n"
      ],
      "metadata": {
        "id": "5EWrvT3em0dP"
      },
      "execution_count": null,
      "outputs": []
    },
    {
      "cell_type": "code",
      "source": [
        "# Train NMF Model (Topic Modeling)\n",
        "from sklearn.decomposition import NMF\n",
        "\n",
        "n_topics = 10  # Define the number of topics you want\n",
        "nmf = NMF(n_components=n_topics, random_state=42)\n",
        "nmf.fit(X)\n",
        "\n",
        "print(\"✅ NMF Model Training Complete\")\n"
      ],
      "metadata": {
        "id": "pui9oSptmPXw"
      },
      "execution_count": null,
      "outputs": []
    },
    {
      "cell_type": "markdown",
      "source": [
        "# Evaluate with Gensim Coherence Score"
      ],
      "metadata": {
        "id": "sDb2Wr4FmZ2s"
      }
    },
    {
      "cell_type": "code",
      "source": [
        "# Prepare data for Gensim (same as LDA)\n",
        "texts = [doc.split() for doc in processed_df['processed_text']]\n",
        "dictionary = Dictionary(texts)\n",
        "corpus = [dictionary.doc2bow(text) for text in texts]\n",
        "\n",
        "# Convert sklearn NMF model to Gensim format (for evaluation)\n",
        "topics_nmf = [[vectorizer.get_feature_names_out()[i] for i in topic.argsort()[:-10 - 1:-1]] for topic in nmf.components_]\n",
        "\n",
        "# Evaluate NMF with Gensim Coherence Score\n",
        "coherence_model_nmf = CoherenceModel(topics=topics_nmf, texts=texts, dictionary=dictionary, coherence='c_v')\n",
        "coherence_score_nmf = coherence_model_nmf.get_coherence()\n",
        "\n",
        "print(f\"🧪 NMF Coherence Score: {coherence_score_nmf:.4f}\")\n"
      ],
      "metadata": {
        "id": "NvYLmZr5manO"
      },
      "execution_count": null,
      "outputs": []
    },
    {
      "cell_type": "markdown",
      "source": [
        "#  Display Top Words per Topic for NMF"
      ],
      "metadata": {
        "id": "qdcZvYbVmd1J"
      }
    },
    {
      "cell_type": "code",
      "source": [
        "# Display top words per topic\n",
        "def display_topics_nmf(model, feature_names, no_top_words):\n",
        "    for topic_idx, topic in enumerate(model.components_):\n",
        "        print(f\"Topic {topic_idx + 1}:\")\n",
        "        print(\" | \".join([feature_names[i] for i in topic.argsort()[:-no_top_words - 1:-1]]))\n",
        "        print()\n",
        "\n",
        "# Display top 10 words for each topic\n",
        "no_top_words = 10\n",
        "display_topics_nmf(nmf, vectorizer.get_feature_names_out(), no_top_words)\n"
      ],
      "metadata": {
        "id": "qOwGb_1ameiD"
      },
      "execution_count": null,
      "outputs": []
    },
    {
      "cell_type": "markdown",
      "source": [
        "# Visualize Topics with WordClouds for NMF"
      ],
      "metadata": {
        "id": "aVijSzkImgq5"
      }
    },
    {
      "cell_type": "code",
      "source": [
        "# Visualize topics with WordClouds\n",
        "for idx, topic in enumerate(nmf.components_):\n",
        "    plt.figure()\n",
        "    wordcloud = WordCloud(background_color='white').generate_from_frequencies(\n",
        "        {vectorizer.get_feature_names_out()[i]: topic[i] for i in topic.argsort()[:-50 - 1:-1]}\n",
        "    )\n",
        "    plt.imshow(wordcloud, interpolation='bilinear')\n",
        "    plt.axis('off')\n",
        "    plt.title(f'Topic {idx + 1}')\n",
        "    plt.show()\n"
      ],
      "metadata": {
        "id": "WFuLHxykmhZA"
      },
      "execution_count": null,
      "outputs": []
    },
    {
      "cell_type": "markdown",
      "source": [
        "# Interactive Visualization with pyLDAvis for NMF"
      ],
      "metadata": {
        "id": "uoQVCyzKmidk"
      }
    },
    {
      "cell_type": "code",
      "source": [
        "import pyLDAvis\n",
        "import pyLDAvis.sklearn\n",
        "\n",
        "# Interactive visualization with pyLDAvis\n",
        "# For NMF, the pyLDAvis.sklearn function works similarly to LDA\n",
        "pyLDAvis.save_html(pyLDAvis.sklearn.prepare(nmf, X, vectorizer), '/content/drive/MyDrive/nmf_vis.html')\n"
      ],
      "metadata": {
        "id": "cjAkwBxbmkwx"
      },
      "execution_count": null,
      "outputs": []
    },
    {
      "cell_type": "markdown",
      "metadata": {
        "id": "L8MTIpIZxz5k"
      },
      "source": [
        "\n",
        "Install libraries ----Set up your working environment\n",
        "\n",
        "Mount Drive ----Access dataset\n",
        "\n",
        "Convert parquet → csv\t----Make handling easier\n",
        "\n",
        "Chunk loading\t----Avoid RAM crash\n",
        "\n",
        "Preprocessing\t----Clean text\n",
        "\n",
        "Combine data\t----Merge cleaned chunks\n",
        "\n",
        "Save clean CSV\t----Avoid repeating preprocessing\n",
        "\n",
        "Vectorization\t----Numerical representation of text\n",
        "\n",
        "Topic modeling\t----Extract hidden topics\n",
        "\n",
        "Visualization\t----Understand topics with WordClouds"
      ]
    }
  ],
  "metadata": {
    "colab": {
      "provenance": [],
      "include_colab_link": true
    },
    "kernelspec": {
      "display_name": "Python 3",
      "name": "python3"
    },
    "language_info": {
      "name": "python"
    }
  },
  "nbformat": 4,
  "nbformat_minor": 0
}